{
  "nbformat": 4,
  "nbformat_minor": 0,
  "metadata": {
    "colab": {
      "provenance": [],
      "gpuType": "T4",
      "authorship_tag": "ABX9TyPTsszeeEtS2EbTCl8wq1cT",
      "include_colab_link": true
    },
    "kernelspec": {
      "name": "python3",
      "display_name": "Python 3"
    },
    "language_info": {
      "name": "python"
    },
    "accelerator": "GPU"
  },
  "cells": [
    {
      "cell_type": "markdown",
      "metadata": {
        "id": "view-in-github",
        "colab_type": "text"
      },
      "source": [
        "<a href=\"https://colab.research.google.com/github/TheCascarrabias/andromeda/blob/main/Primera_red_neuronal.ipynb\" target=\"_parent\"><img src=\"https://colab.research.google.com/assets/colab-badge.svg\" alt=\"Open In Colab\"/></a>"
      ]
    },
    {
      "cell_type": "markdown",
      "source": [
        "Primero importo tensorflow y la librería numpy"
      ],
      "metadata": {
        "id": "KZ8dAkBXVahl"
      }
    },
    {
      "cell_type": "code",
      "execution_count": 2,
      "metadata": {
        "id": "Hl_oxjknSdFO"
      },
      "outputs": [],
      "source": [
        "import tensorflow as tf\n",
        "import numpy as np\n"
      ]
    },
    {
      "cell_type": "markdown",
      "source": [
        "Meto las 7 entradas de grados celsius y su conversión a grados fahrenheit"
      ],
      "metadata": {
        "id": "dgItMLwdVg_M"
      }
    },
    {
      "cell_type": "code",
      "source": [
        "celsius = np.array([-40, -10, 0, 8, 15, 22, 38,], dtype=float)\n",
        "fahrenheit = np.array([-40, 14, 32, 46, 59, 72, 100], dtype=float)"
      ],
      "metadata": {
        "id": "Nk3V4OdMUedf"
      },
      "execution_count": 3,
      "outputs": []
    },
    {
      "cell_type": "markdown",
      "source": [
        "Importo el framework Keras para hacer simplemente redes neuronales, y especifico la capa de salida como una capa de salida densa y le digo cuantas neuronas tiene esa capa ( en este caso solo necesito 1 ) y le especifico que tengo una capa de salida con una neurona solo también. Después le digo que modelo de keras voy a utilizar ( en este caso solo necesito un modelo básico como el secuencial )"
      ],
      "metadata": {
        "id": "m19xno7ZVyQ3"
      }
    },
    {
      "cell_type": "code",
      "source": [
        "modelo = tf.keras.Sequential([\n",
        "    tf.keras.layers.Input(shape=[1]),\n",
        "    tf.keras.layers.Dense(units=1) ])"
      ],
      "metadata": {
        "id": "BhSIaiZOVYq3"
      },
      "execution_count": 6,
      "outputs": []
    },
    {
      "cell_type": "markdown",
      "source": [
        "Compilar modelo"
      ],
      "metadata": {
        "id": "bOjb-2pMZItK"
      }
    },
    {
      "cell_type": "code",
      "source": [
        "modelo.compile(\n",
        "    optimizer=tf.keras.optimizers.Adam(0.1),\n",
        "    loss='mean_squared_error'\n",
        ")"
      ],
      "metadata": {
        "id": "97URYGhUZIZy"
      },
      "execution_count": 7,
      "outputs": []
    },
    {
      "cell_type": "markdown",
      "source": [
        "Entrenar modelo: para entrenar uso la función fit indicándole los datos de entrada y de salida y le decimos cuantas vueltas tiene que dar para entrenar al modelo."
      ],
      "metadata": {
        "id": "E7RmaeF2Z32F"
      }
    },
    {
      "cell_type": "code",
      "source": [
        "print(\"comenzando entrenamiento...\")\n",
        "historial = modelo.fit(celsius, fahrenheit, epochs=1000, verbose=False)\n",
        "print(\"modelo entrenado)\")"
      ],
      "metadata": {
        "colab": {
          "base_uri": "https://localhost:8080/"
        },
        "id": "XDEvbpIPZ8V5",
        "outputId": "e821e30d-5ae7-4229-c88d-78b78586f7cf"
      },
      "execution_count": 10,
      "outputs": [
        {
          "output_type": "stream",
          "name": "stdout",
          "text": [
            "comenzando entrenamiento...\n",
            "modelo entrenado)\n"
          ]
        }
      ]
    },
    {
      "cell_type": "markdown",
      "source": [
        "Ver el resultado de la función de pérdida: como ha ido ajustando el modelo cada vuelta."
      ],
      "metadata": {
        "id": "wH1bJa8kblO_"
      }
    },
    {
      "cell_type": "code",
      "source": [
        "import matplotlib.pyplot as plt\n",
        "plt.xlabel(\"# Época\")\n",
        "plt.ylabel(\"Magnitud de pérdida\")\n",
        "plt.plot(historial.history[\"loss\"])"
      ],
      "metadata": {
        "colab": {
          "base_uri": "https://localhost:8080/",
          "height": 473
        },
        "id": "s731kLjkbnwR",
        "outputId": "b01e8a67-c079-4577-fc35-b65fb39fb9b2"
      },
      "execution_count": 11,
      "outputs": [
        {
          "output_type": "execute_result",
          "data": {
            "text/plain": [
              "[<matplotlib.lines.Line2D at 0x7a08224e5540>]"
            ]
          },
          "metadata": {},
          "execution_count": 11
        },
        {
          "output_type": "display_data",
          "data": {
            "text/plain": [
              "<Figure size 640x480 with 1 Axes>"
            ],
            "image/png": "[encoded data removed]"
          },
          "metadata": {}
        }
      ]
    },
    {
      "cell_type": "markdown",
      "source": [
        "Probando el modelo"
      ],
      "metadata": {
        "id": "b-6Zj91ichXm"
      }
    },
    {
      "cell_type": "code",
      "source": [
        "import numpy as np\n",
        "\n",
        "print(\"Convierte grados Celsius a Fahrenheit\")\n",
        "\n",
        "# Convertir la entrada en un array de NumPy\n",
        "entrada = np.array([100.0])\n",
        "resultado = modelo.predict(entrada)\n",
        "\n",
        "print(\"El resultado es \" + str(resultado[0][0]) + \" Fahrenheit!\")"
      ],
      "metadata": {
        "colab": {
          "base_uri": "https://localhost:8080/"
        },
        "id": "cNM1XlpYcliQ",
        "outputId": "1302b510-9f7e-47f8-b575-db5e6b5d48da"
      },
      "execution_count": 13,
      "outputs": [
        {
          "output_type": "stream",
          "name": "stdout",
          "text": [
            "Convierte grados Celsius a Fahrenheit\n",
            "\u001b[1m1/1\u001b[0m \u001b[32m━━━━━━━━━━━━━━━━━━━━\u001b[0m\u001b[37m\u001b[0m \u001b[1m0s\u001b[0m 86ms/step\n",
            "El resultado es 211.7474 Fahrenheit!\n"
          ]
        }
      ]
    },
    {
      "cell_type": "markdown",
      "source": [
        "Imprime los valores de peso y sesgo del modelo después de entrenar."
      ],
      "metadata": {
        "id": "Sp6xqPVveDPe"
      }
    },
    {
      "cell_type": "code",
      "source": [
        "pesos, sesgos = capa.get_weights()\n",
        "print(\"Pesos:\", pesos)\n",
        "print(\"Sesgos:\", sesgos)"
      ],
      "metadata": {
        "colab": {
          "base_uri": "https://localhost:8080/"
        },
        "id": "cxX99eqEeG4b",
        "outputId": "47bc5cf3-db79-4a87-ab47-4db2edbd9137"
      },
      "execution_count": 17,
      "outputs": [
        {
          "output_type": "stream",
          "name": "stdout",
          "text": [
            "Pesos: [[-1.6941532]]\n",
            "Sesgos: [0.]\n"
          ]
        }
      ]
    }
  ]
}